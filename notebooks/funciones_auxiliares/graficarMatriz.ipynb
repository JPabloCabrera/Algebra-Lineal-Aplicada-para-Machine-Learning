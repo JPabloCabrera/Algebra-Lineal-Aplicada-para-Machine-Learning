{
 "cells": [
  {
   "cell_type": "code",
   "execution_count": 1,
   "metadata": {},
   "outputs": [],
   "source": [
    "import numpy as np\n",
    "import matplotlib.pyplot as plt"
   ]
  },
  {
   "cell_type": "code",
   "execution_count": 10,
   "metadata": {},
   "outputs": [],
   "source": [
    "def graficarMatriz(matriz, vectorCol = [\"red\", \"blue\"]):\n",
    "\n",
    "    # circulo unitario\n",
    "    x = np.linspace(-1,1, 100000)\n",
    "    y = np.sqrt(1 - (x**2))\n",
    "\n",
    "    # circulo unitario transformado\n",
    "    x1 = matriz[0,0]*x + matriz[0,1]*y\n",
    "    y1 = matriz[1,0]*x + matriz[1,1]*y\n",
    "    x1_neg = matriz[0,0]*x - matriz[0,1]*y\n",
    "    y1_neg = matriz[1,0]*x - matriz[1,1]*y\n",
    "\n",
    "    # vectores\n",
    "    u1 = [matriz[0,0], matriz[1,0]]\n",
    "    v1 = [matriz[0,1], matriz[1,1]]\n",
    "\n",
    "    graficarVectores([u1, v1], cols = [vectorCol[0], vectorCol[1]])\n",
    "\n",
    "   \n",
    "    plt.plot(x1, y1, \"green\", alpha = 0.7)\n",
    "    plt.plot(x1_neg, y1_neg, \"green\", alpha = 0.7)\n",
    "   "
   ]
  },
  {
   "cell_type": "markdown",
   "metadata": {},
   "source": [
    "## Explicación de código.\n",
    "\n",
    "La función `graficarMatriz(matriz, vectorCol)` toma una matriz de 2x2 como entrada y realiza una serie de operaciones para visualizar cómo esta matriz transforma el círculo unitario en el plano xy. Veamos paso a paso lo que hace:\n",
    "\n",
    "1. Define un círculo unitario en el plano xy: Esto se hace tomando una serie de puntos en el intervalo [-1, 1] en el eje x y calculando sus correspondientes valores en el eje y de manera que \\(x^2 + y^2 = 1\\). Esto representa un círculo con radio 1 centrado en el origen.\n",
    "\n",
    "2. Calcula la transformación de los puntos del círculo unitario: Utiliza la matriz de entrada `matriz` para transformar los puntos del círculo unitario. Esto se hace multiplicando cada punto \\((x, y)\\) del círculo unitario por la matriz `matriz`. El resultado es un conjunto de puntos que representan cómo la matriz transforma el círculo unitario.\n",
    "\n",
    "3. Grafica los vectores de la matriz `matriz`: Utiliza la función `graficarVectores` para representar gráficamente los vectores que componen la matriz `matriz`. Esto se hace mediante flechas que representan los vectores fila de la matriz. Los colores de las flechas se especifican en el argumento `vectorCol`.\n",
    "\n",
    "4. Grafica la transformación del círculo unitario: Dibuja en verde el resultado de la transformación de los puntos del círculo unitario por la matriz `matriz`. Esto visualiza cómo la matriz cambia la forma del círculo unitario.\n",
    "\n",
    "En resumen, la función `graficarMatriz` se utiliza para visualizar gráficamente la transformación que una matriz 2x2 realiza sobre el círculo unitario en el plano xy. Esto es útil en aplicaciones donde se necesita comprender cómo una matriz afecta la geometría de un conjunto de puntos en el plano."
   ]
  },
  {
   "cell_type": "markdown",
   "metadata": {},
   "source": [
    "--------------------------------------------------------------\n",
    "Claro, en esa parte del código se están calculando las coordenadas de los puntos que representan la transformación de un círculo unitario en el plano \\(xy\\) bajo la influencia de una matriz \\(2 \\times 2\\), que está representada por `matriz`.\n",
    "\n",
    "Aquí está el desglose de cómo se realizan estos cálculos:\n",
    "\n",
    "1. `x1` y `y1` representan las coordenadas de los puntos transformados por la matriz `matriz`. Se calculan de la siguiente manera:\n",
    "   \n",
    "   - `x1` se calcula tomando el producto escalar del primer vector fila de `matriz` con cada punto del círculo unitario y agregando el producto escalar del segundo vector fila de `matriz` con cada punto del círculo unitario. En otras palabras, se están aplicando las transformaciones lineales definidas por las dos filas de la matriz a los puntos del círculo unitario en el eje x.\n",
    "\n",
    "   - `y1` se calcula de manera similar a `x1`, pero utilizando las transformaciones lineales definidas por las dos filas de la matriz a los puntos del círculo unitario en el eje y.\n",
    "\n",
    "2. `x1_neg` y `y1_neg` representan las coordenadas de los puntos que resultarían de la misma transformación, pero con una versión negativa de la matriz `matriz`. En otras palabras, se están calculando las coordenadas de los puntos transformados cuando la matriz `matriz` se multiplica por \\(-1\\).\n",
    "\n",
    "En resumen, esta parte del código calcula las coordenadas de los puntos que representan la transformación de un círculo unitario en el plano \\(xy\\) bajo la influencia de la matriz `matriz`. `x1` y `y1` representan las coordenadas de los puntos transformados, mientras que `x1_neg` y `y1_neg` representan las coordenadas de los puntos transformados cuando la matriz `matriz` se multiplica por \\(-1\\), lo que permite visualizar cómo la orientación de la matriz afecta la transformación."
   ]
  },
  {
   "cell_type": "code",
   "execution_count": 2,
   "metadata": {},
   "outputs": [],
   "source": []
  }
 ],
 "metadata": {
  "kernelspec": {
   "display_name": "machinelearninglinalg",
   "language": "python",
   "name": "python3"
  },
  "language_info": {
   "codemirror_mode": {
    "name": "ipython",
    "version": 3
   },
   "file_extension": ".py",
   "mimetype": "text/x-python",
   "name": "python",
   "nbconvert_exporter": "python",
   "pygments_lexer": "ipython3",
   "version": "3.7.16"
  },
  "orig_nbformat": 4
 },
 "nbformat": 4,
 "nbformat_minor": 2
}
